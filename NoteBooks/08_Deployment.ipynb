{
  "nbformat": 4,
  "nbformat_minor": 0,
  "metadata": {
    "colab": {
      "provenance": []
    },
    "kernelspec": {
      "name": "python3",
      "display_name": "Python 3"
    },
    "language_info": {
      "name": "python"
    }
  },
  "cells": [
    {
      "cell_type": "code",
      "source": [
        "from flask import Flask, render_template, request, jsonify\n",
        "from pyngrok import ngrok\n",
        "import joblib\n",
        "import numpy as np\n",
        "\n",
        "app = Flask(__name__, static_folder=\"static\")\n",
        "\n",
        "# Load the trained model (adjust the filename as needed)\n",
        "model = joblib.load(\"/content/xgboost_pipeline.pkl\")\n",
        "\n",
        "@app.route(\"/\")\n",
        "def home():\n",
        "    return render_template(\"index.html\")\n",
        "\n",
        "@app.route(\"/predict\", methods=[\"POST\"])\n",
        "def predict():\n",
        "    try:\n",
        "        sex = int(request.form[\"sex\"])\n",
        "        fbs = int(request.form[\"fbs\"])\n",
        "        exang = int(request.form[\"exang\"])\n",
        "        restecg = int(request.form[\"restecg\"])\n",
        "        thal = int(request.form[\"thal\"])\n",
        "        cp = int(request.form[\"cp\"])\n",
        "        slope = int(request.form[\"slope\"])\n",
        "\n",
        "        features = np.array([[sex, fbs, exang, restecg, thal, cp, slope]])\n",
        "        prediction = model.predict(features)[0]\n",
        "\n",
        "        result = \"High Risk\" if prediction == 1 else \"Low Risk\"\n",
        "        return jsonify({\"result\": result})\n",
        "    except Exception as e:\n",
        "        return jsonify({\"error\": str(e)})\n",
        "\n",
        "# Run the app using ngrok\n",
        "if __name__ == \"__main__\":\n",
        "    public_url = ngrok.connect(5000)\n",
        "    print(\" * ngrok tunnel:\", public_url)\n",
        "    app.run()\n"
      ],
      "metadata": {
        "colab": {
          "base_uri": "https://localhost:8080/"
        },
        "id": "gIg42ZDn3W-t",
        "outputId": "f7c9969f-52e8-4e3c-cfda-4a364d65cb94"
      },
      "execution_count": 1,
      "outputs": [
        {
          "output_type": "stream",
          "name": "stdout",
          "text": [
            " * ngrok tunnel: NgrokTunnel: \"https://b15a288bff07.ngrok-free.app\" -> \"http://localhost:5000\"\n",
            " * Serving Flask app '__main__'\n",
            " * Debug mode: off\n"
          ]
        },
        {
          "output_type": "stream",
          "name": "stderr",
          "text": [
            "INFO:werkzeug:\u001b[31m\u001b[1mWARNING: This is a development server. Do not use it in a production deployment. Use a production WSGI server instead.\u001b[0m\n",
            " * Running on http://127.0.0.1:5000\n",
            "INFO:werkzeug:\u001b[33mPress CTRL+C to quit\u001b[0m\n",
            "INFO:werkzeug:127.0.0.1 - - [01/Aug/2025 14:12:16] \"GET / HTTP/1.1\" 200 -\n",
            "INFO:werkzeug:127.0.0.1 - - [01/Aug/2025 14:12:16] \"GET /static/css/style.css HTTP/1.1\" 200 -\n",
            "INFO:werkzeug:127.0.0.1 - - [01/Aug/2025 14:12:16] \"GET /static/css/all.css HTTP/1.1\" 200 -\n",
            "INFO:werkzeug:127.0.0.1 - - [01/Aug/2025 14:12:17] \"GET /static/images/Background.png HTTP/1.1\" 200 -\n",
            "INFO:werkzeug:127.0.0.1 - - [01/Aug/2025 14:12:20] \"\u001b[33mGET /favicon.ico HTTP/1.1\u001b[0m\" 404 -\n",
            "/usr/local/lib/python3.11/dist-packages/sklearn/utils/validation.py:2739: UserWarning: X does not have valid feature names, but StandardScaler was fitted with feature names\n",
            "  warnings.warn(\n",
            "INFO:werkzeug:127.0.0.1 - - [01/Aug/2025 14:12:58] \"POST /predict HTTP/1.1\" 200 -\n",
            "INFO:werkzeug:127.0.0.1 - - [01/Aug/2025 14:13:04] \"GET / HTTP/1.1\" 200 -\n",
            "INFO:werkzeug:127.0.0.1 - - [01/Aug/2025 14:13:05] \"\u001b[36mGET /static/css/style.css HTTP/1.1\u001b[0m\" 304 -\n",
            "INFO:werkzeug:127.0.0.1 - - [01/Aug/2025 14:13:05] \"\u001b[36mGET /static/css/all.css HTTP/1.1\u001b[0m\" 304 -\n",
            "INFO:werkzeug:127.0.0.1 - - [01/Aug/2025 14:13:05] \"\u001b[36mGET /static/images/Background.png HTTP/1.1\u001b[0m\" 304 -\n",
            "/usr/local/lib/python3.11/dist-packages/sklearn/utils/validation.py:2739: UserWarning: X does not have valid feature names, but StandardScaler was fitted with feature names\n",
            "  warnings.warn(\n",
            "INFO:werkzeug:127.0.0.1 - - [01/Aug/2025 14:13:29] \"POST /predict HTTP/1.1\" 200 -\n"
          ]
        }
      ]
    }
  ]
}